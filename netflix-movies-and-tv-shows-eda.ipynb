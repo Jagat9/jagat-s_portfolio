{
 "cells": [
  {
   "cell_type": "code",
   "execution_count": 1,
   "id": "9f2b9aab",
   "metadata": {
    "_cell_guid": "b1076dfc-b9ad-4769-8c92-a6c4dae69d19",
    "_uuid": "8f2839f25d086af736a60e9eeb907d3b93b6e0e5",
    "execution": {
     "iopub.execute_input": "2024-04-23T06:28:20.956561Z",
     "iopub.status.busy": "2024-04-23T06:28:20.956066Z",
     "iopub.status.idle": "2024-04-23T06:28:22.025837Z",
     "shell.execute_reply": "2024-04-23T06:28:22.024602Z"
    },
    "papermill": {
     "duration": 1.082413,
     "end_time": "2024-04-23T06:28:22.028779",
     "exception": false,
     "start_time": "2024-04-23T06:28:20.946366",
     "status": "completed"
    },
    "tags": []
   },
   "outputs": [],
   "source": [
    "# only pandas is required\n",
    "import pandas as pd"
   ]
  },
  {
   "cell_type": "code",
   "execution_count": 2,
   "id": "408ea5f3",
   "metadata": {
    "execution": {
     "iopub.execute_input": "2024-04-23T06:28:22.045601Z",
     "iopub.status.busy": "2024-04-23T06:28:22.044988Z",
     "iopub.status.idle": "2024-04-23T06:28:22.238229Z",
     "shell.execute_reply": "2024-04-23T06:28:22.236903Z"
    },
    "papermill": {
     "duration": 0.20473,
     "end_time": "2024-04-23T06:28:22.241017",
     "exception": false,
     "start_time": "2024-04-23T06:28:22.036287",
     "status": "completed"
    },
    "tags": []
   },
   "outputs": [
    {
     "data": {
      "text/plain": [
       "Index(['show_id', 'type', 'title', 'director', 'cast', 'country', 'date_added',\n",
       "       'release_year', 'rating', 'duration', 'listed_in', 'description',\n",
       "       'Unnamed: 12', 'Unnamed: 13', 'Unnamed: 14', 'Unnamed: 15',\n",
       "       'Unnamed: 16', 'Unnamed: 17', 'Unnamed: 18', 'Unnamed: 19',\n",
       "       'Unnamed: 20', 'Unnamed: 21', 'Unnamed: 22', 'Unnamed: 23',\n",
       "       'Unnamed: 24', 'Unnamed: 25'],\n",
       "      dtype='object')"
      ]
     },
     "execution_count": 2,
     "metadata": {},
     "output_type": "execute_result"
    }
   ],
   "source": [
    "df = pd.read_csv('/kaggle/input/netflix-movies-and-tv-shows/netflix_titles.csv', encoding='latin1')\n",
    "df.columns"
   ]
  },
  {
   "cell_type": "code",
   "execution_count": 3,
   "id": "d4458a38",
   "metadata": {
    "execution": {
     "iopub.execute_input": "2024-04-23T06:28:22.257942Z",
     "iopub.status.busy": "2024-04-23T06:28:22.257460Z",
     "iopub.status.idle": "2024-04-23T06:28:22.298438Z",
     "shell.execute_reply": "2024-04-23T06:28:22.296994Z"
    },
    "papermill": {
     "duration": 0.052833,
     "end_time": "2024-04-23T06:28:22.301385",
     "exception": false,
     "start_time": "2024-04-23T06:28:22.248552",
     "status": "completed"
    },
    "tags": []
   },
   "outputs": [
    {
     "data": {
      "text/html": [
       "<div>\n",
       "<style scoped>\n",
       "    .dataframe tbody tr th:only-of-type {\n",
       "        vertical-align: middle;\n",
       "    }\n",
       "\n",
       "    .dataframe tbody tr th {\n",
       "        vertical-align: top;\n",
       "    }\n",
       "\n",
       "    .dataframe thead th {\n",
       "        text-align: right;\n",
       "    }\n",
       "</style>\n",
       "<table border=\"1\" class=\"dataframe\">\n",
       "  <thead>\n",
       "    <tr style=\"text-align: right;\">\n",
       "      <th></th>\n",
       "      <th>show_id</th>\n",
       "      <th>type</th>\n",
       "      <th>title</th>\n",
       "      <th>director</th>\n",
       "      <th>cast</th>\n",
       "      <th>country</th>\n",
       "      <th>date_added</th>\n",
       "      <th>release_year</th>\n",
       "      <th>rating</th>\n",
       "      <th>duration</th>\n",
       "      <th>...</th>\n",
       "      <th>Unnamed: 16</th>\n",
       "      <th>Unnamed: 17</th>\n",
       "      <th>Unnamed: 18</th>\n",
       "      <th>Unnamed: 19</th>\n",
       "      <th>Unnamed: 20</th>\n",
       "      <th>Unnamed: 21</th>\n",
       "      <th>Unnamed: 22</th>\n",
       "      <th>Unnamed: 23</th>\n",
       "      <th>Unnamed: 24</th>\n",
       "      <th>Unnamed: 25</th>\n",
       "    </tr>\n",
       "  </thead>\n",
       "  <tbody>\n",
       "    <tr>\n",
       "      <th>0</th>\n",
       "      <td>s1</td>\n",
       "      <td>Movie</td>\n",
       "      <td>Dick Johnson Is Dead</td>\n",
       "      <td>Kirsten Johnson</td>\n",
       "      <td>NaN</td>\n",
       "      <td>United States</td>\n",
       "      <td>September 25, 2021</td>\n",
       "      <td>2020</td>\n",
       "      <td>PG-13</td>\n",
       "      <td>90 min</td>\n",
       "      <td>...</td>\n",
       "      <td>NaN</td>\n",
       "      <td>NaN</td>\n",
       "      <td>NaN</td>\n",
       "      <td>NaN</td>\n",
       "      <td>NaN</td>\n",
       "      <td>NaN</td>\n",
       "      <td>NaN</td>\n",
       "      <td>NaN</td>\n",
       "      <td>NaN</td>\n",
       "      <td>NaN</td>\n",
       "    </tr>\n",
       "    <tr>\n",
       "      <th>1</th>\n",
       "      <td>s2</td>\n",
       "      <td>TV Show</td>\n",
       "      <td>Blood &amp; Water</td>\n",
       "      <td>NaN</td>\n",
       "      <td>Ama Qamata, Khosi Ngema, Gail Mabalane, Thaban...</td>\n",
       "      <td>South Africa</td>\n",
       "      <td>September 24, 2021</td>\n",
       "      <td>2021</td>\n",
       "      <td>TV-MA</td>\n",
       "      <td>2 Seasons</td>\n",
       "      <td>...</td>\n",
       "      <td>NaN</td>\n",
       "      <td>NaN</td>\n",
       "      <td>NaN</td>\n",
       "      <td>NaN</td>\n",
       "      <td>NaN</td>\n",
       "      <td>NaN</td>\n",
       "      <td>NaN</td>\n",
       "      <td>NaN</td>\n",
       "      <td>NaN</td>\n",
       "      <td>NaN</td>\n",
       "    </tr>\n",
       "  </tbody>\n",
       "</table>\n",
       "<p>2 rows × 26 columns</p>\n",
       "</div>"
      ],
      "text/plain": [
       "  show_id     type                 title         director  \\\n",
       "0      s1    Movie  Dick Johnson Is Dead  Kirsten Johnson   \n",
       "1      s2  TV Show         Blood & Water              NaN   \n",
       "\n",
       "                                                cast        country  \\\n",
       "0                                                NaN  United States   \n",
       "1  Ama Qamata, Khosi Ngema, Gail Mabalane, Thaban...   South Africa   \n",
       "\n",
       "           date_added  release_year rating   duration  ... Unnamed: 16  \\\n",
       "0  September 25, 2021          2020  PG-13     90 min  ...         NaN   \n",
       "1  September 24, 2021          2021  TV-MA  2 Seasons  ...         NaN   \n",
       "\n",
       "  Unnamed: 17  Unnamed: 18  Unnamed: 19  Unnamed: 20  Unnamed: 21  \\\n",
       "0         NaN          NaN          NaN          NaN          NaN   \n",
       "1         NaN          NaN          NaN          NaN          NaN   \n",
       "\n",
       "   Unnamed: 22  Unnamed: 23  Unnamed: 24  Unnamed: 25  \n",
       "0          NaN          NaN          NaN          NaN  \n",
       "1          NaN          NaN          NaN          NaN  \n",
       "\n",
       "[2 rows x 26 columns]"
      ]
     },
     "execution_count": 3,
     "metadata": {},
     "output_type": "execute_result"
    }
   ],
   "source": [
    "df.head(2)"
   ]
  },
  {
   "cell_type": "code",
   "execution_count": 4,
   "id": "9a3e576d",
   "metadata": {
    "execution": {
     "iopub.execute_input": "2024-04-23T06:28:22.319864Z",
     "iopub.status.busy": "2024-04-23T06:28:22.318804Z",
     "iopub.status.idle": "2024-04-23T06:28:22.329628Z",
     "shell.execute_reply": "2024-04-23T06:28:22.328489Z"
    },
    "papermill": {
     "duration": 0.022922,
     "end_time": "2024-04-23T06:28:22.332203",
     "exception": false,
     "start_time": "2024-04-23T06:28:22.309281",
     "status": "completed"
    },
    "tags": []
   },
   "outputs": [
    {
     "data": {
      "text/plain": [
       "Index(['show_id', 'type', 'title', 'director', 'cast', 'country', 'date_added',\n",
       "       'release_year', 'rating', 'duration', 'listed_in', 'description'],\n",
       "      dtype='object')"
      ]
     },
     "execution_count": 4,
     "metadata": {},
     "output_type": "execute_result"
    }
   ],
   "source": [
    "df = df[df.columns[:12]]\n",
    "df.columns"
   ]
  },
  {
   "cell_type": "markdown",
   "id": "fb7bdde3",
   "metadata": {
    "papermill": {
     "duration": 0.007604,
     "end_time": "2024-04-23T06:28:22.348112",
     "exception": false,
     "start_time": "2024-04-23T06:28:22.340508",
     "status": "completed"
    },
    "tags": []
   },
   "source": [
    "# Content Type Distribution\n",
    "\n",
    "How is content distributed between movies and TV shows on Netflix?"
   ]
  },
  {
   "cell_type": "code",
   "execution_count": 5,
   "id": "64e1a4e5",
   "metadata": {
    "execution": {
     "iopub.execute_input": "2024-04-23T06:28:22.366707Z",
     "iopub.status.busy": "2024-04-23T06:28:22.365583Z",
     "iopub.status.idle": "2024-04-23T06:28:22.383613Z",
     "shell.execute_reply": "2024-04-23T06:28:22.382491Z"
    },
    "papermill": {
     "duration": 0.030163,
     "end_time": "2024-04-23T06:28:22.386344",
     "exception": false,
     "start_time": "2024-04-23T06:28:22.356181",
     "status": "completed"
    },
    "tags": []
   },
   "outputs": [
    {
     "data": {
      "text/plain": [
       "type\n",
       "Movie      6132\n",
       "TV Show    2677\n",
       "Name: count, dtype: int64"
      ]
     },
     "execution_count": 5,
     "metadata": {},
     "output_type": "execute_result"
    }
   ],
   "source": [
    "df.type.value_counts()"
   ]
  },
  {
   "cell_type": "markdown",
   "id": "c046358b",
   "metadata": {
    "papermill": {
     "duration": 0.007881,
     "end_time": "2024-04-23T06:28:22.402339",
     "exception": false,
     "start_time": "2024-04-23T06:28:22.394458",
     "status": "completed"
    },
    "tags": []
   },
   "source": [
    "# Release Year Analysis\n",
    "\n",
    "What trends can be observed in the release years of content added to Netflix? Has there been an increase in recent content over the years?\n"
   ]
  },
  {
   "cell_type": "code",
   "execution_count": 6,
   "id": "9399f678",
   "metadata": {
    "execution": {
     "iopub.execute_input": "2024-04-23T06:28:22.420425Z",
     "iopub.status.busy": "2024-04-23T06:28:22.420024Z",
     "iopub.status.idle": "2024-04-23T06:28:22.772322Z",
     "shell.execute_reply": "2024-04-23T06:28:22.771038Z"
    },
    "papermill": {
     "duration": 0.365076,
     "end_time": "2024-04-23T06:28:22.775537",
     "exception": false,
     "start_time": "2024-04-23T06:28:22.410461",
     "status": "completed"
    },
    "tags": []
   },
   "outputs": [
    {
     "data": {
      "text/plain": [
       "<Axes: xlabel='release_year'>"
      ]
     },
     "execution_count": 6,
     "metadata": {},
     "output_type": "execute_result"
    },
    {
     "data": {
      "image/png": "[encoded data removed]",
      "text/plain": [
       "<Figure size 640x480 with 1 Axes>"
      ]
     },
     "metadata": {},
     "output_type": "display_data"
    }
   ],
   "source": [
    "(\n",
    "    df.release_year\n",
    "      .value_counts()\n",
    "      .sort_index()\n",
    "      .plot(kind='line')\n",
    ")"
   ]
  },
  {
   "cell_type": "code",
   "execution_count": 7,
   "id": "2f9fbb45",
   "metadata": {
    "execution": {
     "iopub.execute_input": "2024-04-23T06:28:22.795643Z",
     "iopub.status.busy": "2024-04-23T06:28:22.795150Z",
     "iopub.status.idle": "2024-04-23T06:28:23.169965Z",
     "shell.execute_reply": "2024-04-23T06:28:23.168582Z"
    },
    "papermill": {
     "duration": 0.387853,
     "end_time": "2024-04-23T06:28:23.172632",
     "exception": false,
     "start_time": "2024-04-23T06:28:22.784779",
     "status": "completed"
    },
    "tags": []
   },
   "outputs": [
    {
     "data": {
      "text/plain": [
       "<Axes: xlabel='date_added'>"
      ]
     },
     "execution_count": 7,
     "metadata": {},
     "output_type": "execute_result"
    },
    {
     "data": {
      "image/png": "[encoded data removed]",
      "text/plain": [
       "<Figure size 640x480 with 1 Axes>"
      ]
     },
     "metadata": {},
     "output_type": "display_data"
    }
   ],
   "source": [
    "df.dropna(subset=['date_added'], inplace=True)\n",
    "df.date_added = df.date_added.str.strip()\n",
    "df.date_added = pd.to_datetime(df.date_added)\n",
    "\n",
    "(\n",
    "    df.date_added\n",
    "      .dt.year\n",
    "      .value_counts()\n",
    "      .sort_index()\n",
    "      .plot(kind='line')\n",
    ")"
   ]
  },
  {
   "cell_type": "markdown",
   "id": "a9193257",
   "metadata": {
    "papermill": {
     "duration": 0.01024,
     "end_time": "2024-04-23T06:28:23.192465",
     "exception": false,
     "start_time": "2024-04-23T06:28:23.182225",
     "status": "completed"
    },
    "tags": []
   },
   "source": [
    "# Geographic Distribution\n",
    "Which countries produce the most content available on Netflix? Are there noticeable differences in the type of content (movies vs. TV shows)?"
   ]
  },
  {
   "cell_type": "code",
   "execution_count": 8,
   "id": "1a6425e8",
   "metadata": {
    "execution": {
     "iopub.execute_input": "2024-04-23T06:28:23.214164Z",
     "iopub.status.busy": "2024-04-23T06:28:23.213181Z",
     "iopub.status.idle": "2024-04-23T06:28:23.427580Z",
     "shell.execute_reply": "2024-04-23T06:28:23.426322Z"
    },
    "papermill": {
     "duration": 0.227974,
     "end_time": "2024-04-23T06:28:23.430143",
     "exception": false,
     "start_time": "2024-04-23T06:28:23.202169",
     "status": "completed"
    },
    "tags": []
   },
   "outputs": [
    {
     "data": {
      "image/png": "[encoded data removed]",
      "text/plain": [
       "<Figure size 640x480 with 1 Axes>"
      ]
     },
     "metadata": {},
     "output_type": "display_data"
    }
   ],
   "source": [
    "ax = df.country.value_counts().nlargest(5).sort_values(ascending=True).plot(kind='barh',  color='lightgray')\n",
    "\n",
    "bars = ax.patches\n",
    "bars[-2].set_facecolor('#004c99')"
   ]
  },
  {
   "cell_type": "code",
   "execution_count": 9,
   "id": "a28f2a9a",
   "metadata": {
    "execution": {
     "iopub.execute_input": "2024-04-23T06:28:23.452312Z",
     "iopub.status.busy": "2024-04-23T06:28:23.451900Z",
     "iopub.status.idle": "2024-04-23T06:28:23.737357Z",
     "shell.execute_reply": "2024-04-23T06:28:23.735954Z"
    },
    "papermill": {
     "duration": 0.299978,
     "end_time": "2024-04-23T06:28:23.740500",
     "exception": false,
     "start_time": "2024-04-23T06:28:23.440522",
     "status": "completed"
    },
    "tags": []
   },
   "outputs": [
    {
     "data": {
      "text/plain": [
       "<Axes: >"
      ]
     },
     "execution_count": 9,
     "metadata": {},
     "output_type": "execute_result"
    },
    {
     "data": {
      "image/png": "[encoded data removed]",
      "text/plain": [
       "<Figure size 640x480 with 1 Axes>"
      ]
     },
     "metadata": {},
     "output_type": "display_data"
    }
   ],
   "source": [
    "index = []\n",
    "row = []\n",
    "for c in ['United States', 'India', 'United Kingdom', 'Japan', 'South Korea'][::-1]:\n",
    "  cnt = df[df.country==c].type.value_counts()  \n",
    "  total = cnt['Movie'] + cnt['TV Show']\n",
    "  index.append(c)\n",
    "  row.append([cnt['Movie']/total*100, cnt['TV Show']/total*100,] )\n",
    "cnt = pd.DataFrame(row, columns=['Movie', 'TV Show'], index=index)\n",
    "cnt.plot(kind='barh', stacked=True)"
   ]
  },
  {
   "cell_type": "markdown",
   "id": "a486d7ef",
   "metadata": {
    "papermill": {
     "duration": 0.010199,
     "end_time": "2024-04-23T06:28:23.761837",
     "exception": false,
     "start_time": "2024-04-23T06:28:23.751638",
     "status": "completed"
    },
    "tags": []
   },
   "source": [
    "# Rating Analysis\n",
    "What is the distribution of content ratings on Netflix? How does content rating vary between different countries or regions?"
   ]
  },
  {
   "cell_type": "code",
   "execution_count": 10,
   "id": "84cb3e90",
   "metadata": {
    "execution": {
     "iopub.execute_input": "2024-04-23T06:28:23.785062Z",
     "iopub.status.busy": "2024-04-23T06:28:23.784573Z",
     "iopub.status.idle": "2024-04-23T06:28:24.113635Z",
     "shell.execute_reply": "2024-04-23T06:28:24.112444Z"
    },
    "papermill": {
     "duration": 0.343995,
     "end_time": "2024-04-23T06:28:24.116450",
     "exception": false,
     "start_time": "2024-04-23T06:28:23.772455",
     "status": "completed"
    },
    "tags": []
   },
   "outputs": [
    {
     "data": {
      "text/plain": [
       "<Axes: ylabel='rating'>"
      ]
     },
     "execution_count": 10,
     "metadata": {},
     "output_type": "execute_result"
    },
    {
     "data": {
      "image/png": "[encoded data removed]",
      "text/plain": [
       "<Figure size 640x480 with 1 Axes>"
      ]
     },
     "metadata": {},
     "output_type": "display_data"
    }
   ],
   "source": [
    "df.rating.value_counts().sort_values().plot(kind='barh')"
   ]
  },
  {
   "cell_type": "code",
   "execution_count": 11,
   "id": "51951934",
   "metadata": {
    "execution": {
     "iopub.execute_input": "2024-04-23T06:28:24.140704Z",
     "iopub.status.busy": "2024-04-23T06:28:24.139900Z",
     "iopub.status.idle": "2024-04-23T06:28:24.531392Z",
     "shell.execute_reply": "2024-04-23T06:28:24.530135Z"
    },
    "papermill": {
     "duration": 0.407321,
     "end_time": "2024-04-23T06:28:24.534717",
     "exception": false,
     "start_time": "2024-04-23T06:28:24.127396",
     "status": "completed"
    },
    "tags": []
   },
   "outputs": [
    {
     "data": {
      "text/plain": [
       "<Axes: xlabel='rating'>"
      ]
     },
     "execution_count": 11,
     "metadata": {},
     "output_type": "execute_result"
    },
    {
     "data": {
      "image/png": "[encoded data removed]",
      "text/plain": [
       "<Figure size 640x480 with 1 Axes>"
      ]
     },
     "metadata": {},
     "output_type": "display_data"
    }
   ],
   "source": [
    "df.rating.value_counts().sort_values().plot(kind='bar')"
   ]
  },
  {
   "cell_type": "markdown",
   "id": "9deca65c",
   "metadata": {
    "papermill": {
     "duration": 0.011408,
     "end_time": "2024-04-23T06:28:24.558470",
     "exception": false,
     "start_time": "2024-04-23T06:28:24.547062",
     "status": "completed"
    },
    "tags": []
   },
   "source": [
    "# Duration Insights\n",
    "\n",
    "What are the common durations for movies and TV shows? Is there a trend in the duration of content over the years?"
   ]
  },
  {
   "cell_type": "code",
   "execution_count": 12,
   "id": "217dd20b",
   "metadata": {
    "execution": {
     "iopub.execute_input": "2024-04-23T06:28:24.583600Z",
     "iopub.status.busy": "2024-04-23T06:28:24.583138Z",
     "iopub.status.idle": "2024-04-23T06:28:24.915677Z",
     "shell.execute_reply": "2024-04-23T06:28:24.914457Z"
    },
    "papermill": {
     "duration": 0.348612,
     "end_time": "2024-04-23T06:28:24.918557",
     "exception": false,
     "start_time": "2024-04-23T06:28:24.569945",
     "status": "completed"
    },
    "tags": []
   },
   "outputs": [
    {
     "data": {
      "text/plain": [
       "<Axes: ylabel='Frequency'>"
      ]
     },
     "execution_count": 12,
     "metadata": {},
     "output_type": "execute_result"
    },
    {
     "data": {
      "image/png": "[encoded data removed]",
      "text/plain": [
       "<Figure size 640x480 with 1 Axes>"
      ]
     },
     "metadata": {},
     "output_type": "display_data"
    }
   ],
   "source": [
    "movie = df[df.type=='Movie'].copy()\n",
    "movie.duration = movie.duration.str.split(expand=True)[0]\n",
    "movie.duration = pd.to_numeric(movie.duration)\n",
    "movie.duration.plot(kind='hist')"
   ]
  },
  {
   "cell_type": "code",
   "execution_count": 13,
   "id": "d18c6634",
   "metadata": {
    "execution": {
     "iopub.execute_input": "2024-04-23T06:28:24.944661Z",
     "iopub.status.busy": "2024-04-23T06:28:24.944230Z",
     "iopub.status.idle": "2024-04-23T06:28:25.222444Z",
     "shell.execute_reply": "2024-04-23T06:28:25.221180Z"
    },
    "papermill": {
     "duration": 0.294689,
     "end_time": "2024-04-23T06:28:25.225254",
     "exception": false,
     "start_time": "2024-04-23T06:28:24.930565",
     "status": "completed"
    },
    "tags": []
   },
   "outputs": [
    {
     "data": {
      "text/plain": [
       "<Axes: xlabel='len_cat'>"
      ]
     },
     "execution_count": 13,
     "metadata": {},
     "output_type": "execute_result"
    },
    {
     "data": {
      "image/png": "[encoded data removed]",
      "text/plain": [
       "<Figure size 640x480 with 1 Axes>"
      ]
     },
     "metadata": {},
     "output_type": "display_data"
    }
   ],
   "source": [
    "def len_cat(x):\n",
    "    if x <= 60:\n",
    "        return \"1\"\n",
    "    elif x <= 90:\n",
    "        return \"1.5\"\n",
    "    elif x <= 120:\n",
    "        return \"2\"\n",
    "    elif x <= 180:\n",
    "        return \"3\"\n",
    "    else:\n",
    "        return \">3\"\n",
    "        \n",
    "movie['len_cat'] = movie.duration.apply(len_cat)\n",
    "movie['len_cat'].value_counts().plot(kind='bar')"
   ]
  },
  {
   "cell_type": "markdown",
   "id": "d626b7b4",
   "metadata": {
    "papermill": {
     "duration": 0.012105,
     "end_time": "2024-04-23T06:28:25.249820",
     "exception": false,
     "start_time": "2024-04-23T06:28:25.237715",
     "status": "completed"
    },
    "tags": []
   },
   "source": [
    "# Director Focus\n",
    "Who are the most frequent directors on Netflix for both movies and TV shows? Does specific director involvement correlate with higher content ratings or popularity?"
   ]
  },
  {
   "cell_type": "code",
   "execution_count": 14,
   "id": "4196f9fb",
   "metadata": {
    "execution": {
     "iopub.execute_input": "2024-04-23T06:28:25.277408Z",
     "iopub.status.busy": "2024-04-23T06:28:25.277008Z",
     "iopub.status.idle": "2024-04-23T06:28:25.296608Z",
     "shell.execute_reply": "2024-04-23T06:28:25.295355Z"
    },
    "papermill": {
     "duration": 0.036493,
     "end_time": "2024-04-23T06:28:25.299387",
     "exception": false,
     "start_time": "2024-04-23T06:28:25.262894",
     "status": "completed"
    },
    "tags": []
   },
   "outputs": [
    {
     "data": {
      "text/html": [
       "<div>\n",
       "<style scoped>\n",
       "    .dataframe tbody tr th:only-of-type {\n",
       "        vertical-align: middle;\n",
       "    }\n",
       "\n",
       "    .dataframe tbody tr th {\n",
       "        vertical-align: top;\n",
       "    }\n",
       "\n",
       "    .dataframe thead th {\n",
       "        text-align: right;\n",
       "    }\n",
       "</style>\n",
       "<table border=\"1\" class=\"dataframe\">\n",
       "  <thead>\n",
       "    <tr style=\"text-align: right;\">\n",
       "      <th></th>\n",
       "      <th>director</th>\n",
       "      <th>count</th>\n",
       "    </tr>\n",
       "  </thead>\n",
       "  <tbody>\n",
       "    <tr>\n",
       "      <th>0</th>\n",
       "      <td>Rajiv Chilaka</td>\n",
       "      <td>19</td>\n",
       "    </tr>\n",
       "    <tr>\n",
       "      <th>1</th>\n",
       "      <td>RaÃºl Campos, Jan Suter</td>\n",
       "      <td>18</td>\n",
       "    </tr>\n",
       "    <tr>\n",
       "      <th>2</th>\n",
       "      <td>Marcus Raboy</td>\n",
       "      <td>16</td>\n",
       "    </tr>\n",
       "    <tr>\n",
       "      <th>3</th>\n",
       "      <td>Suhas Kadav</td>\n",
       "      <td>16</td>\n",
       "    </tr>\n",
       "    <tr>\n",
       "      <th>4</th>\n",
       "      <td>Jay Karas</td>\n",
       "      <td>14</td>\n",
       "    </tr>\n",
       "    <tr>\n",
       "      <th>5</th>\n",
       "      <td>Cathy Garcia-Molina</td>\n",
       "      <td>13</td>\n",
       "    </tr>\n",
       "    <tr>\n",
       "      <th>6</th>\n",
       "      <td>Youssef Chahine</td>\n",
       "      <td>12</td>\n",
       "    </tr>\n",
       "    <tr>\n",
       "      <th>7</th>\n",
       "      <td>Martin Scorsese</td>\n",
       "      <td>12</td>\n",
       "    </tr>\n",
       "    <tr>\n",
       "      <th>8</th>\n",
       "      <td>Jay Chapman</td>\n",
       "      <td>12</td>\n",
       "    </tr>\n",
       "    <tr>\n",
       "      <th>9</th>\n",
       "      <td>Steven Spielberg</td>\n",
       "      <td>11</td>\n",
       "    </tr>\n",
       "  </tbody>\n",
       "</table>\n",
       "</div>"
      ],
      "text/plain": [
       "                  director  count\n",
       "0            Rajiv Chilaka     19\n",
       "1  RaÃºl Campos, Jan Suter     18\n",
       "2             Marcus Raboy     16\n",
       "3              Suhas Kadav     16\n",
       "4                Jay Karas     14\n",
       "5      Cathy Garcia-Molina     13\n",
       "6          Youssef Chahine     12\n",
       "7          Martin Scorsese     12\n",
       "8              Jay Chapman     12\n",
       "9         Steven Spielberg     11"
      ]
     },
     "execution_count": 14,
     "metadata": {},
     "output_type": "execute_result"
    }
   ],
   "source": [
    "director = df.director.value_counts().nlargest(10).to_frame().reset_index()\n",
    "director"
   ]
  },
  {
   "cell_type": "code",
   "execution_count": 15,
   "id": "f8b7348f",
   "metadata": {
    "execution": {
     "iopub.execute_input": "2024-04-23T06:28:25.327826Z",
     "iopub.status.busy": "2024-04-23T06:28:25.327388Z",
     "iopub.status.idle": "2024-04-23T06:28:25.359533Z",
     "shell.execute_reply": "2024-04-23T06:28:25.358046Z"
    },
    "papermill": {
     "duration": 0.050051,
     "end_time": "2024-04-23T06:28:25.362377",
     "exception": false,
     "start_time": "2024-04-23T06:28:25.312326",
     "status": "completed"
    },
    "tags": []
   },
   "outputs": [
    {
     "data": {
      "text/plain": [
       "<bound method NDFrame.head of                   director  count        country\n",
       "0            Rajiv Chilaka     19          India\n",
       "1  RaÃºl Campos, Jan Suter     18         Mexico\n",
       "2             Marcus Raboy     16  United States\n",
       "3              Suhas Kadav     16          India\n",
       "4                Jay Karas     14  United States\n",
       "5      Cathy Garcia-Molina     13    Philippines\n",
       "6          Youssef Chahine     12          Egypt\n",
       "7          Martin Scorsese     12  United States\n",
       "8              Jay Chapman     12  United States\n",
       "9         Steven Spielberg     11  United States>"
      ]
     },
     "execution_count": 15,
     "metadata": {},
     "output_type": "execute_result"
    }
   ],
   "source": [
    "(\n",
    "    director\n",
    "    .merge(\n",
    "        df.dropna(subset='country')\n",
    "          .drop_duplicates(subset='director'), \n",
    "        how='left', \n",
    "        on='director')\n",
    "    [['director','count','country']].head\n",
    ")"
   ]
  },
  {
   "cell_type": "code",
   "execution_count": null,
   "id": "2f89d5b9",
   "metadata": {
    "papermill": {
     "duration": 0.01308,
     "end_time": "2024-04-23T06:28:25.388674",
     "exception": false,
     "start_time": "2024-04-23T06:28:25.375594",
     "status": "completed"
    },
    "tags": []
   },
   "outputs": [],
   "source": []
  }
 ],
 "metadata": {
  "kaggle": {
   "accelerator": "none",
   "dataSources": [
    {
     "datasetId": 4769773,
     "sourceId": 8081202,
     "sourceType": "datasetVersion"
    }
   ],
   "dockerImageVersionId": 30684,
   "isGpuEnabled": false,
   "isInternetEnabled": true,
   "language": "python",
   "sourceType": "notebook"
  },
  "kernelspec": {
   "display_name": "Python 3",
   "language": "python",
   "name": "python3"
  },
  "language_info": {
   "codemirror_mode": {
    "name": "ipython",
    "version": 3
   },
   "file_extension": ".py",
   "mimetype": "text/x-python",
   "name": "python",
   "nbconvert_exporter": "python",
   "pygments_lexer": "ipython3",
   "version": "3.10.13"
  },
  "papermill": {
   "default_parameters": {},
   "duration": 8.469923,
   "end_time": "2024-04-23T06:28:26.023636",
   "environment_variables": {},
   "exception": null,
   "input_path": "__notebook__.ipynb",
   "output_path": "__notebook__.ipynb",
   "parameters": {},
   "start_time": "2024-04-23T06:28:17.553713",
   "version": "2.5.0"
  }
 },
 "nbformat": 4,
 "nbformat_minor": 5
}
